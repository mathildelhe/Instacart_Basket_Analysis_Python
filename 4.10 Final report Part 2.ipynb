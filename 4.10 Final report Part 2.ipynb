{
 "cells": [
  {
   "cell_type": "markdown",
   "id": "33c74def",
   "metadata": {},
   "source": [
    "# Content list - PART 2\n",
    "### Import libraries and data\n",
    "### Geographical spending habits\n",
    "Regional segmentation\n",
    "\n",
    "Spending habits\n",
    "### Customer profiling\n",
    "Profiling based on family status\n",
    "\n",
    "Profiling based on income\n",
    "### Descriptive stats based on customer profiles\n",
    "QUESTION: is the number of days between orders influenced by the customer's family profile? income group? region?\n",
    "\n",
    "QUESTION: is the hour of the day where orders are placed influenced by the customer's family profile? income group? region?\n",
    "\n",
    "QUESTION: Is the type of goods (department_id) influenced by the customer's family profile? income group? region?\n",
    "\n",
    "QUESTION: Is the price of the products ordered influenced by the customer's family profile? income group? region?\n",
    "\n",
    "QUESTION: Is the average total price of the orders influenced by the customer's family profile? income group? region?"
   ]
  },
  {
   "cell_type": "markdown",
   "id": "36c94a74",
   "metadata": {},
   "source": [
    "# Import libraries and data"
   ]
  },
  {
   "cell_type": "code",
   "execution_count": null,
   "id": "2ab1bde3",
   "metadata": {},
   "outputs": [],
   "source": [
    "#importing libraries\n",
    "import pandas as pd\n",
    "import numpy as np\n",
    "import os\n",
    "import matplotlib.pyplot as plt\n",
    "import seaborn as sns"
   ]
  },
  {
   "cell_type": "code",
   "execution_count": 2,
   "id": "fa49abf9",
   "metadata": {},
   "outputs": [],
   "source": [
    "#importing data\n",
    "#create path\n",
    "path = r'C:\\Users\\Mathilde\\Documents\\DATA ANALYSIS CAREERFOUNDRY\\May 2024 - Instacart Basket Analysis'\n",
    "#final merged data set with only active customers\n",
    "df = pd.read_pickle(os.path.join(path, '02 Data', 'Prepared data', 'ords_prods_merge_high_activ_cx.pkl'))"
   ]
  },
  {
   "cell_type": "markdown",
   "id": "97972890",
   "metadata": {},
   "source": [
    "Note: From the previous notebook named \"Task 4.10 Part 1\" I only managed to export a data frame from which I dropped the low activity cutsomers, but with no greographic segmentation (due to memory error).\n",
    "Let's add the geographic segmentation now:"
   ]
  },
  {
   "cell_type": "markdown",
   "id": "048ba6ae",
   "metadata": {},
   "source": [
    "# Geographical spending habits"
   ]
  },
  {
   "cell_type": "markdown",
   "id": "127e9d60",
   "metadata": {},
   "source": [
    "## Regional segmentation"
   ]
  },
  {
   "cell_type": "code",
   "execution_count": 3,
   "id": "24aad0e6",
   "metadata": {},
   "outputs": [
    {
     "data": {
      "text/html": [
       "<div>\n",
       "<style scoped>\n",
       "    .dataframe tbody tr th:only-of-type {\n",
       "        vertical-align: middle;\n",
       "    }\n",
       "\n",
       "    .dataframe tbody tr th {\n",
       "        vertical-align: top;\n",
       "    }\n",
       "\n",
       "    .dataframe thead th {\n",
       "        text-align: right;\n",
       "    }\n",
       "</style>\n",
       "<table border=\"1\" class=\"dataframe\">\n",
       "  <thead>\n",
       "    <tr style=\"text-align: right;\">\n",
       "      <th></th>\n",
       "      <th>order_id</th>\n",
       "      <th>user_id</th>\n",
       "      <th>order_number</th>\n",
       "      <th>order_dow</th>\n",
       "      <th>order_hour_of_day</th>\n",
       "      <th>days_since_prior_order</th>\n",
       "      <th>product_id</th>\n",
       "      <th>add_to_cart_order</th>\n",
       "      <th>reordered</th>\n",
       "      <th>product_name</th>\n",
       "      <th>aisle_id</th>\n",
       "      <th>department_id</th>\n",
       "      <th>prices</th>\n",
       "      <th>price_range_loc</th>\n",
       "      <th>busiest_day</th>\n",
       "      <th>busiest_period_of_day</th>\n",
       "      <th>max_order</th>\n",
       "      <th>loyalty_flag</th>\n",
       "      <th>avg_price</th>\n",
       "      <th>spending_flag</th>\n",
       "      <th>median_dspo</th>\n",
       "      <th>order_frequency_flag</th>\n",
       "      <th>State</th>\n",
       "      <th>Age</th>\n",
       "      <th>n_dependants</th>\n",
       "      <th>fam_status</th>\n",
       "      <th>income</th>\n",
       "    </tr>\n",
       "  </thead>\n",
       "  <tbody>\n",
       "    <tr>\n",
       "      <th>0</th>\n",
       "      <td>2539329</td>\n",
       "      <td>1</td>\n",
       "      <td>1</td>\n",
       "      <td>2</td>\n",
       "      <td>8</td>\n",
       "      <td>NaN</td>\n",
       "      <td>196</td>\n",
       "      <td>1</td>\n",
       "      <td>0</td>\n",
       "      <td>Soda</td>\n",
       "      <td>77</td>\n",
       "      <td>7</td>\n",
       "      <td>9.0</td>\n",
       "      <td>Mid-range product</td>\n",
       "      <td>Regularly busy</td>\n",
       "      <td>Average orders</td>\n",
       "      <td>10</td>\n",
       "      <td>New customer</td>\n",
       "      <td>6.367797</td>\n",
       "      <td>Low spender</td>\n",
       "      <td>20.5</td>\n",
       "      <td>Non-frequent customer</td>\n",
       "      <td>Alabama</td>\n",
       "      <td>31</td>\n",
       "      <td>3</td>\n",
       "      <td>married</td>\n",
       "      <td>40423</td>\n",
       "    </tr>\n",
       "  </tbody>\n",
       "</table>\n",
       "</div>"
      ],
      "text/plain": [
       "   order_id  user_id  order_number  order_dow  order_hour_of_day  \\\n",
       "0   2539329        1             1          2                  8   \n",
       "\n",
       "   days_since_prior_order  product_id  add_to_cart_order  reordered  \\\n",
       "0                     NaN         196                  1          0   \n",
       "\n",
       "  product_name  aisle_id  department_id  prices    price_range_loc  \\\n",
       "0         Soda        77              7     9.0  Mid-range product   \n",
       "\n",
       "      busiest_day busiest_period_of_day  max_order  loyalty_flag  avg_price  \\\n",
       "0  Regularly busy        Average orders         10  New customer   6.367797   \n",
       "\n",
       "  spending_flag  median_dspo   order_frequency_flag    State  Age  \\\n",
       "0   Low spender         20.5  Non-frequent customer  Alabama   31   \n",
       "\n",
       "   n_dependants fam_status  income  \n",
       "0             3    married   40423  "
      ]
     },
     "execution_count": 3,
     "metadata": {},
     "output_type": "execute_result"
    }
   ],
   "source": [
    "# Check name of columns\n",
    "pd.options.display.max_columns = None\n",
    "df.head(1)"
   ]
  },
  {
   "cell_type": "code",
   "execution_count": 4,
   "id": "d8582f0f",
   "metadata": {},
   "outputs": [
    {
     "name": "stdout",
     "output_type": "stream",
     "text": [
      "['Alabama' 'Alaska' 'Arizona' 'Arkansas' 'Connecticut' 'Florida' 'Georgia'\n",
      " 'Hawaii' 'Idaho' 'Illinois' 'Indiana' 'Iowa' 'Kansas' 'Kentucky'\n",
      " 'Louisiana' 'Montana' 'Nebraska' 'New Hampshire' 'New Mexico' 'New York'\n",
      " 'North Carolina' 'North Dakota' 'Ohio' 'Oklahoma' 'Oregon'\n",
      " 'Massachusetts' 'Michigan' 'Minnesota' 'Mississippi' 'Missouri'\n",
      " 'Pennsylvania' 'Rhode Island' 'South Carolina' 'South Dakota' 'Tennessee'\n",
      " 'Vermont' 'Virginia' 'Washington' 'West Virginia' 'Wisconsin'\n",
      " 'California' 'Colorado' 'Delaware' 'District of Columbia' 'Maine'\n",
      " 'Nevada' 'New Jersey' 'Maryland' 'Texas' 'Utah' 'Wyoming']\n"
     ]
    }
   ],
   "source": [
    "# Check if \"State\" column is consistent by viewing its unique values\n",
    "states_list = df['State'].unique()\n",
    "print(states_list)"
   ]
  },
  {
   "cell_type": "code",
   "execution_count": 5,
   "id": "63bf9ca6",
   "metadata": {},
   "outputs": [
    {
     "data": {
      "text/plain": [
       "51"
      ]
     },
     "execution_count": 5,
     "metadata": {},
     "output_type": "execute_result"
    }
   ],
   "source": [
    "# Seems okay at first sight but let's count the number of states\n",
    "len(states_list)"
   ]
  },
  {
   "cell_type": "markdown",
   "id": "861d63cc",
   "metadata": {},
   "source": [
    "51 is what we expected as the list includes \"District of Columbia\". All good. I can use this list as a help to write the code to create the \"Region\" column."
   ]
  },
  {
   "cell_type": "code",
   "execution_count": 3,
   "id": "50dda37b",
   "metadata": {},
   "outputs": [],
   "source": [
    "#creation of region column (like a flag)\n",
    "df.loc[df['State'].isin(['Maine', 'New Hampshire', 'Vermont', 'Massachusetts', 'Rhode Island', 'Connecticut', 'New York', 'Pennsylvania', 'New Jersey']), 'Region'] = 'Northeast'\n",
    "df.loc[df['State'].isin(['Wisconsin', 'Michigan', 'Illinois', 'Indiana', 'Ohio', 'North Dakota', 'South Dakota', 'Nebraska', 'Kansas', 'Minnesota', 'Iowa', 'Missouri']), 'Region'] = 'Midwest'\n",
    "df.loc[df['State'].isin(['Delaware', 'Maryland', 'District of Columbia', 'Virginia', 'West Virginia', 'North Carolina', 'South Carolina', 'Georgia', 'Florida', 'Kentucky', 'Tennessee', 'Mississippi', 'Alabama', 'Oklahoma', 'Texas', 'Arkansas', 'Louisiana']), 'Region'] = 'South'\n",
    "df.loc[df['State'].isin(['Idaho', 'Montana', 'Wyoming', 'Nevada', 'Utah', 'Colorado', 'Arizona', 'New Mexico', 'Alaska', 'Washington', 'Oregon', 'California', 'Hawaii']), 'Region'] = 'West'"
   ]
  },
  {
   "cell_type": "code",
   "execution_count": 7,
   "id": "d3577b10",
   "metadata": {},
   "outputs": [
    {
     "data": {
      "text/plain": [
       "Region\n",
       "South        10311139\n",
       "West          7927227\n",
       "Midwest       7261513\n",
       "Northeast     5464685\n",
       "Name: count, dtype: int64"
      ]
     },
     "execution_count": 7,
     "metadata": {},
     "output_type": "execute_result"
    }
   ],
   "source": [
    "df['Region'].value_counts()"
   ]
  },
  {
   "cell_type": "code",
   "execution_count": 4,
   "id": "acac5d50",
   "metadata": {},
   "outputs": [],
   "source": [
    "# Export the new data set with geographic segmentation\n",
    "df.to_pickle(os.path.join(path, '02 Data','Prepared Data', 'ords_prods_merge_high_activ_cx_with_geog_segm.pkl.pkl'))"
   ]
  },
  {
   "cell_type": "markdown",
   "id": "929eb754",
   "metadata": {},
   "source": [
    "## Spending habits"
   ]
  },
  {
   "cell_type": "code",
   "execution_count": 8,
   "id": "07a1e2d5",
   "metadata": {},
   "outputs": [
    {
     "name": "stdout",
     "output_type": "stream",
     "text": [
      "spending_flag  High spender  Low spender\n",
      "Region                                  \n",
      "Midwest               24085      7237428\n",
      "Northeast             15058      5449627\n",
      "South                 33246     10277893\n",
      "West                  25039      7902188\n"
     ]
    }
   ],
   "source": [
    "crosstab = pd.crosstab(df['Region'], df['spending_flag'], dropna = False)\n",
    "print(crosstab)"
   ]
  },
  {
   "cell_type": "markdown",
   "id": "e8a82a71",
   "metadata": {},
   "source": [
    "### Observation:"
   ]
  },
  {
   "cell_type": "markdown",
   "id": "5af30f26",
   "metadata": {},
   "source": [
    "This crosstab is small enough to be viewed in Jupyter instead of Excel. It seems at first ight that the difference is not notable between regions (more Low spenders in the south, but also more High spenders: it's just more populated). Let's get a better insight with percentage."
   ]
  },
  {
   "cell_type": "code",
   "execution_count": 9,
   "id": "45c90786",
   "metadata": {},
   "outputs": [
    {
     "data": {
      "text/html": [
       "<div>\n",
       "<style scoped>\n",
       "    .dataframe tbody tr th:only-of-type {\n",
       "        vertical-align: middle;\n",
       "    }\n",
       "\n",
       "    .dataframe tbody tr th {\n",
       "        vertical-align: top;\n",
       "    }\n",
       "\n",
       "    .dataframe thead th {\n",
       "        text-align: right;\n",
       "    }\n",
       "</style>\n",
       "<table border=\"1\" class=\"dataframe\">\n",
       "  <thead>\n",
       "    <tr style=\"text-align: right;\">\n",
       "      <th>spending_flag</th>\n",
       "      <th>High spender</th>\n",
       "      <th>Low spender</th>\n",
       "      <th>percentage_low_spender</th>\n",
       "    </tr>\n",
       "    <tr>\n",
       "      <th>Region</th>\n",
       "      <th></th>\n",
       "      <th></th>\n",
       "      <th></th>\n",
       "    </tr>\n",
       "  </thead>\n",
       "  <tbody>\n",
       "    <tr>\n",
       "      <th>Midwest</th>\n",
       "      <td>24085</td>\n",
       "      <td>7237428</td>\n",
       "      <td>0.996683</td>\n",
       "    </tr>\n",
       "    <tr>\n",
       "      <th>Northeast</th>\n",
       "      <td>15058</td>\n",
       "      <td>5449627</td>\n",
       "      <td>0.997244</td>\n",
       "    </tr>\n",
       "    <tr>\n",
       "      <th>South</th>\n",
       "      <td>33246</td>\n",
       "      <td>10277893</td>\n",
       "      <td>0.996776</td>\n",
       "    </tr>\n",
       "    <tr>\n",
       "      <th>West</th>\n",
       "      <td>25039</td>\n",
       "      <td>7902188</td>\n",
       "      <td>0.996841</td>\n",
       "    </tr>\n",
       "  </tbody>\n",
       "</table>\n",
       "</div>"
      ],
      "text/plain": [
       "spending_flag  High spender  Low spender  percentage_low_spender\n",
       "Region                                                          \n",
       "Midwest               24085      7237428                0.996683\n",
       "Northeast             15058      5449627                0.997244\n",
       "South                 33246     10277893                0.996776\n",
       "West                  25039      7902188                0.996841"
      ]
     },
     "execution_count": 9,
     "metadata": {},
     "output_type": "execute_result"
    }
   ],
   "source": [
    "crosstab['percentage_low_spender'] = (crosstab['Low spender']/(crosstab['High spender']+crosstab['Low spender']))\n",
    "crosstab"
   ]
  },
  {
   "cell_type": "markdown",
   "id": "070ae095",
   "metadata": {},
   "source": [
    "In all regions, the low spenders account for over 99.6% of all products bought. Some variations exist but they are minimal."
   ]
  },
  {
   "cell_type": "markdown",
   "id": "f00f58b7",
   "metadata": {},
   "source": [
    "# Customer profiling"
   ]
  },
  {
   "cell_type": "code",
   "execution_count": 10,
   "id": "839d318e",
   "metadata": {
    "scrolled": true
   },
   "outputs": [
    {
     "data": {
      "text/plain": [
       "array(['married', 'divorced/widowed', 'single',\n",
       "       'living with parents and siblings'], dtype=object)"
      ]
     },
     "execution_count": 10,
     "metadata": {},
     "output_type": "execute_result"
    }
   ],
   "source": [
    "df['fam_status'].unique()"
   ]
  },
  {
   "cell_type": "code",
   "execution_count": 11,
   "id": "d8bd6fb4",
   "metadata": {},
   "outputs": [
    {
     "data": {
      "text/plain": [
       "array([3, 2, 0, 1], dtype=int64)"
      ]
     },
     "execution_count": 11,
     "metadata": {},
     "output_type": "execute_result"
    }
   ],
   "source": [
    "df['n_dependants'].unique()"
   ]
  },
  {
   "cell_type": "markdown",
   "id": "c40cb8fc",
   "metadata": {},
   "source": [
    "## Profiling based on family status"
   ]
  },
  {
   "cell_type": "markdown",
   "id": "4ea16d7d",
   "metadata": {},
   "source": [
    "Here are the profiles I'm going to create and the criterias used to define them:\n",
    "#### Young single adult\n",
    "Customers under 30 yo, living with parents and siblings or single.\n",
    "#### Single adult over 30\n",
    "Customers 30 yo or older, living with parents and siblings or single.\n",
    "#### Young parents\n",
    "Customers under 30 years old, married and with 1 or more dependants\n",
    "#### Parent over 30\n",
    "Customers 30 yo or older, married and with 1 or more dependants\n",
    "#### Single parents\n",
    "Customers not married with 1 or more dependants\n",
    "#### Adults without children\n",
    "Customers married, divorced or widowed with 0 dependants"
   ]
  },
  {
   "cell_type": "code",
   "execution_count": 4,
   "id": "ba1aea74",
   "metadata": {},
   "outputs": [],
   "source": [
    "# Initialize the new column with a default value\n",
    "df['customer_profile'] = 'Other'\n",
    "# Young single adults\n",
    "df.loc[(df['fam_status'].isin(['single', 'living with parents and siblings'])) & (df['n_dependants'] == 0) & (df['Age'] < 30), 'customer_profile'] = 'Young single adult'\n",
    "# Single adults over 30\n",
    "df.loc[(df['fam_status'].isin(['single', 'living with parents and siblings'])) & (df['n_dependants'] == 0) & (df['Age'] >= 30), 'customer_profile'] = 'Single adult over 30'\n",
    "# Young parents\n",
    "df.loc[(df['fam_status'] == 'married') & (df['n_dependants'] > 0) & (df['Age'] < 30), 'customer_profile'] = 'Young parent'\n",
    "# Parents over 30\n",
    "df.loc[(df['fam_status'] == 'married') & (df['n_dependants'] > 0) & (df['Age'] >= 30), 'customer_profile'] = 'Parent over 30'\n",
    "# Single parents\n",
    "df.loc[(df['n_dependants'] > 0) & (df['fam_status'] != 'married'), 'customer_profile'] = 'Single parent'\n",
    "# Adults without children (married or divorced/widowed without children)\n",
    "df.loc[(df['n_dependants'] == 0) & (df['fam_status'].isin(['divorced/widowed', 'married'])), 'customer_profile'] = 'Adult without children'"
   ]
  },
  {
   "cell_type": "code",
   "execution_count": 19,
   "id": "1950fc5a",
   "metadata": {},
   "outputs": [
    {
     "data": {
      "text/plain": [
       "customer_profile\n",
       "Parent over 30            18854898\n",
       "Single adult over 30       3646792\n",
       "Young parent               2888813\n",
       "Adult without children     2645271\n",
       "Single parent              1481172\n",
       "Young single adult         1447618\n",
       "Name: count, dtype: int64"
      ]
     },
     "execution_count": 19,
     "metadata": {},
     "output_type": "execute_result"
    }
   ],
   "source": [
    "# view results\n",
    "df['customer_profile'].value_counts()"
   ]
  },
  {
   "cell_type": "markdown",
   "id": "e64c233d",
   "metadata": {},
   "source": [
    "All the \"Other\" have been overwritten, meaning we successuflly covered all of the existing customer profiles.\n",
    "Let's create a pie chart to represent the portion of each profile."
   ]
  },
  {
   "cell_type": "code",
   "execution_count": 21,
   "id": "ab580531",
   "metadata": {},
   "outputs": [
    {
     "data": {
      "image/png": "[encoded data removed]",
      "text/plain": [
       "<Figure size 800x800 with 1 Axes>"
      ]
     },
     "metadata": {},
     "output_type": "display_data"
    }
   ],
   "source": [
    "# Creating Pie Chart of customer profiles\n",
    "profile_counts = df['customer_profile'].value_counts()\n",
    "plt.figure(figsize = (8,8))\n",
    "profiles_pie_chart = profile_counts.plot.pie(labels=('Parents over 30','Single adult over 30','Young parent', 'Adult without children', 'Single parent', 'Young single adult '), \n",
    "                          autopct = '%.1f%%',\n",
    "                          wedgeprops = {'edgecolor':'black'})\n",
    "plt.title('Customer profiles')\n",
    "plt.ylabel('')\n",
    "plt.tight_layout()\n",
    "plt.show()"
   ]
  },
  {
   "cell_type": "markdown",
   "id": "406db7ab",
   "metadata": {},
   "source": [
    "### Observations:\n",
    "More than half of the products we sell are bought by parents over 30. Three quarters of our sales are made by parents (all types of parents combined) this is our main customer base. Marketing department can use this information to create programms to increase sales with single people, or offer discounts to parents (for example, on baby products) as loyalty rewards."
   ]
  },
  {
   "cell_type": "code",
   "execution_count": 22,
   "id": "22155b30",
   "metadata": {},
   "outputs": [],
   "source": [
    "# Exporting Age Group Pie Chart Visualizations\n",
    "profiles_pie_chart.figure.savefig(os.path.join(path,'04 Analysis','Visualizations','profiles_distribution_pie_chart.png'))"
   ]
  },
  {
   "cell_type": "markdown",
   "id": "6c9d4921",
   "metadata": {},
   "source": [
    "## Profiling based on income"
   ]
  },
  {
   "cell_type": "markdown",
   "id": "9e4139e0",
   "metadata": {},
   "source": [
    "First, let's have a look at the income distribution."
   ]
  },
  {
   "cell_type": "code",
   "execution_count": 23,
   "id": "a70c3945",
   "metadata": {},
   "outputs": [
    {
     "data": {
      "image/png": "[encoded data removed]",
      "text/plain": [
       "<Figure size 640x480 with 1 Axes>"
      ]
     },
     "metadata": {},
     "output_type": "display_data"
    }
   ],
   "source": [
    "income_histogram = df['income'].plot.hist(bins=25)\n",
    "plt.show()"
   ]
  },
  {
   "cell_type": "markdown",
   "id": "58913717",
   "metadata": {},
   "source": [
    "There is a big drop after 180,000 USD.\n",
    "Let's define thresholds for our economic groups. The values I find depend on the sources, but it is agreed that the middle calss income's lower bound is 50,000 USD, and its upper bound is 140,000USD. These will be our thresholds."
   ]
  },
  {
   "cell_type": "code",
   "execution_count": 24,
   "id": "8896facd",
   "metadata": {},
   "outputs": [],
   "source": [
    "# Creating Low Income group \n",
    "df.loc[df['income']<=50000,'income_group']='Low Income'\n",
    "# Creating Middle Income group\n",
    "df.loc[(df['income']>50000)&(df['income']<=140000),'income_group']='Middle Income'\n",
    "# Creating High Income group\n",
    "df.loc[df['income']>140000,'income_group']='High Income'"
   ]
  },
  {
   "cell_type": "code",
   "execution_count": 25,
   "id": "a6e8c13e",
   "metadata": {},
   "outputs": [
    {
     "data": {
      "text/plain": [
       "income_group\n",
       "Middle Income    21961255\n",
       "High Income       5640755\n",
       "Low Income        3362554\n",
       "Name: count, dtype: int64"
      ]
     },
     "execution_count": 25,
     "metadata": {},
     "output_type": "execute_result"
    }
   ],
   "source": [
    "# view results\n",
    "df['income_group'].value_counts()"
   ]
  },
  {
   "cell_type": "code",
   "execution_count": 26,
   "id": "d897a29b",
   "metadata": {},
   "outputs": [
    {
     "data": {
      "image/png": "[encoded data removed]",
      "text/plain": [
       "<Figure size 800x800 with 1 Axes>"
      ]
     },
     "metadata": {},
     "output_type": "display_data"
    }
   ],
   "source": [
    "# Creating Pie Chart income groups\n",
    "income_groups_counts = df['income_group'].value_counts()\n",
    "plt.figure(figsize = (8,8))\n",
    "income_groups_pie_chart = income_groups_counts.plot.pie(labels=('Middle Income','High Income','Low Income'), \n",
    "                          autopct = '%.1f%%',\n",
    "                          wedgeprops = {'edgecolor':'black'})\n",
    "plt.title('Income groups')\n",
    "plt.ylabel('')\n",
    "plt.tight_layout()\n",
    "plt.show()"
   ]
  },
  {
   "cell_type": "markdown",
   "id": "1fbfbaef",
   "metadata": {},
   "source": [
    "### Observations:\n",
    "A vast majority of our sales are from middle income customers. "
   ]
  },
  {
   "cell_type": "code",
   "execution_count": 27,
   "id": "6c174840",
   "metadata": {},
   "outputs": [],
   "source": [
    "# Exporting Age Group Pie Chart Visualization\n",
    "income_groups_pie_chart.figure.savefig(os.path.join(path,'04 Analysis','Visualizations','income_groups_pie_chart.png'))"
   ]
  },
  {
   "cell_type": "markdown",
   "id": "4e412448",
   "metadata": {},
   "source": [
    "## Descriptive stats based on customer profiles"
   ]
  },
  {
   "cell_type": "markdown",
   "id": "df03a9db",
   "metadata": {},
   "source": [
    "### QUESTION: Is the number of days between orders influenced by the customer's family profile? income group? region?"
   ]
  },
  {
   "cell_type": "code",
   "execution_count": 28,
   "id": "fbb60873",
   "metadata": {},
   "outputs": [
    {
     "data": {
      "text/html": [
       "<div>\n",
       "<style scoped>\n",
       "    .dataframe tbody tr th:only-of-type {\n",
       "        vertical-align: middle;\n",
       "    }\n",
       "\n",
       "    .dataframe tbody tr th {\n",
       "        vertical-align: top;\n",
       "    }\n",
       "\n",
       "    .dataframe thead th {\n",
       "        text-align: right;\n",
       "    }\n",
       "</style>\n",
       "<table border=\"1\" class=\"dataframe\">\n",
       "  <thead>\n",
       "    <tr style=\"text-align: right;\">\n",
       "      <th></th>\n",
       "      <th>mean</th>\n",
       "      <th>max</th>\n",
       "      <th>min</th>\n",
       "    </tr>\n",
       "    <tr>\n",
       "      <th>customer_profile</th>\n",
       "      <th></th>\n",
       "      <th></th>\n",
       "      <th></th>\n",
       "    </tr>\n",
       "  </thead>\n",
       "  <tbody>\n",
       "    <tr>\n",
       "      <th>Adult without children</th>\n",
       "      <td>9.874549</td>\n",
       "      <td>30.0</td>\n",
       "      <td>0.0</td>\n",
       "    </tr>\n",
       "    <tr>\n",
       "      <th>Parent over 30</th>\n",
       "      <td>9.978220</td>\n",
       "      <td>30.0</td>\n",
       "      <td>0.0</td>\n",
       "    </tr>\n",
       "    <tr>\n",
       "      <th>Single adult over 30</th>\n",
       "      <td>9.931305</td>\n",
       "      <td>30.0</td>\n",
       "      <td>0.0</td>\n",
       "    </tr>\n",
       "    <tr>\n",
       "      <th>Single parent</th>\n",
       "      <td>9.869971</td>\n",
       "      <td>30.0</td>\n",
       "      <td>0.0</td>\n",
       "    </tr>\n",
       "    <tr>\n",
       "      <th>Young parent</th>\n",
       "      <td>9.919357</td>\n",
       "      <td>30.0</td>\n",
       "      <td>0.0</td>\n",
       "    </tr>\n",
       "    <tr>\n",
       "      <th>Young single adult</th>\n",
       "      <td>10.063159</td>\n",
       "      <td>30.0</td>\n",
       "      <td>0.0</td>\n",
       "    </tr>\n",
       "  </tbody>\n",
       "</table>\n",
       "</div>"
      ],
      "text/plain": [
       "                             mean   max  min\n",
       "customer_profile                            \n",
       "Adult without children   9.874549  30.0  0.0\n",
       "Parent over 30           9.978220  30.0  0.0\n",
       "Single adult over 30     9.931305  30.0  0.0\n",
       "Single parent            9.869971  30.0  0.0\n",
       "Young parent             9.919357  30.0  0.0\n",
       "Young single adult      10.063159  30.0  0.0"
      ]
     },
     "execution_count": 28,
     "metadata": {},
     "output_type": "execute_result"
    }
   ],
   "source": [
    "# Customer family profile\n",
    "df.groupby('customer_profile')['median_dspo'].agg(['mean', 'max', 'min'])"
   ]
  },
  {
   "cell_type": "markdown",
   "id": "0e04b0e8",
   "metadata": {},
   "source": [
    "Looks like the answer is no. Min and Max are the same for all groups: let's plot the mean."
   ]
  },
  {
   "cell_type": "code",
   "execution_count": 30,
   "id": "cc267d06",
   "metadata": {},
   "outputs": [
    {
     "data": {
      "image/png": "[encoded data removed]",
      "text/plain": [
       "<Figure size 640x480 with 1 Axes>"
      ]
     },
     "metadata": {},
     "output_type": "display_data"
    }
   ],
   "source": [
    "barchart_medial_dspo_profile = df.groupby('customer_profile')['median_dspo'].agg(['mean']).plot.bar()"
   ]
  },
  {
   "cell_type": "code",
   "execution_count": 31,
   "id": "a350f771",
   "metadata": {},
   "outputs": [],
   "source": [
    "# Exporting median dspo bar chart Visualization\n",
    "barchart_medial_dspo_profile.figure.savefig(os.path.join(path,'04 Analysis','Visualizations','barchart_medial_dspo_profile'))"
   ]
  },
  {
   "cell_type": "code",
   "execution_count": 32,
   "id": "08420792",
   "metadata": {},
   "outputs": [
    {
     "data": {
      "text/html": [
       "<div>\n",
       "<style scoped>\n",
       "    .dataframe tbody tr th:only-of-type {\n",
       "        vertical-align: middle;\n",
       "    }\n",
       "\n",
       "    .dataframe tbody tr th {\n",
       "        vertical-align: top;\n",
       "    }\n",
       "\n",
       "    .dataframe thead th {\n",
       "        text-align: right;\n",
       "    }\n",
       "</style>\n",
       "<table border=\"1\" class=\"dataframe\">\n",
       "  <thead>\n",
       "    <tr style=\"text-align: right;\">\n",
       "      <th></th>\n",
       "      <th>mean</th>\n",
       "      <th>max</th>\n",
       "      <th>min</th>\n",
       "    </tr>\n",
       "    <tr>\n",
       "      <th>income_group</th>\n",
       "      <th></th>\n",
       "      <th></th>\n",
       "      <th></th>\n",
       "    </tr>\n",
       "  </thead>\n",
       "  <tbody>\n",
       "    <tr>\n",
       "      <th>High Income</th>\n",
       "      <td>9.840084</td>\n",
       "      <td>30.0</td>\n",
       "      <td>0.0</td>\n",
       "    </tr>\n",
       "    <tr>\n",
       "      <th>Low Income</th>\n",
       "      <td>10.519268</td>\n",
       "      <td>30.0</td>\n",
       "      <td>0.0</td>\n",
       "    </tr>\n",
       "    <tr>\n",
       "      <th>Middle Income</th>\n",
       "      <td>9.901137</td>\n",
       "      <td>30.0</td>\n",
       "      <td>0.0</td>\n",
       "    </tr>\n",
       "  </tbody>\n",
       "</table>\n",
       "</div>"
      ],
      "text/plain": [
       "                    mean   max  min\n",
       "income_group                       \n",
       "High Income     9.840084  30.0  0.0\n",
       "Low Income     10.519268  30.0  0.0\n",
       "Middle Income   9.901137  30.0  0.0"
      ]
     },
     "execution_count": 32,
     "metadata": {},
     "output_type": "execute_result"
    }
   ],
   "source": [
    "# Income group\n",
    "df.groupby('income_group')['median_dspo'].agg(['mean', 'max', 'min'])"
   ]
  },
  {
   "cell_type": "markdown",
   "id": "bce76224",
   "metadata": {},
   "source": [
    "Also no difference."
   ]
  },
  {
   "cell_type": "code",
   "execution_count": 39,
   "id": "e6c4457b",
   "metadata": {},
   "outputs": [
    {
     "data": {
      "text/html": [
       "<div>\n",
       "<style scoped>\n",
       "    .dataframe tbody tr th:only-of-type {\n",
       "        vertical-align: middle;\n",
       "    }\n",
       "\n",
       "    .dataframe tbody tr th {\n",
       "        vertical-align: top;\n",
       "    }\n",
       "\n",
       "    .dataframe thead th {\n",
       "        text-align: right;\n",
       "    }\n",
       "</style>\n",
       "<table border=\"1\" class=\"dataframe\">\n",
       "  <thead>\n",
       "    <tr style=\"text-align: right;\">\n",
       "      <th></th>\n",
       "      <th>mean</th>\n",
       "      <th>max</th>\n",
       "      <th>min</th>\n",
       "    </tr>\n",
       "    <tr>\n",
       "      <th>Region</th>\n",
       "      <th></th>\n",
       "      <th></th>\n",
       "      <th></th>\n",
       "    </tr>\n",
       "  </thead>\n",
       "  <tbody>\n",
       "    <tr>\n",
       "      <th>Midwest</th>\n",
       "      <td>10.019931</td>\n",
       "      <td>30.0</td>\n",
       "      <td>0.0</td>\n",
       "    </tr>\n",
       "    <tr>\n",
       "      <th>Northeast</th>\n",
       "      <td>9.924985</td>\n",
       "      <td>30.0</td>\n",
       "      <td>0.0</td>\n",
       "    </tr>\n",
       "    <tr>\n",
       "      <th>South</th>\n",
       "      <td>9.955835</td>\n",
       "      <td>30.0</td>\n",
       "      <td>0.0</td>\n",
       "    </tr>\n",
       "    <tr>\n",
       "      <th>West</th>\n",
       "      <td>9.923485</td>\n",
       "      <td>30.0</td>\n",
       "      <td>0.0</td>\n",
       "    </tr>\n",
       "  </tbody>\n",
       "</table>\n",
       "</div>"
      ],
      "text/plain": [
       "                mean   max  min\n",
       "Region                         \n",
       "Midwest    10.019931  30.0  0.0\n",
       "Northeast   9.924985  30.0  0.0\n",
       "South       9.955835  30.0  0.0\n",
       "West        9.923485  30.0  0.0"
      ]
     },
     "execution_count": 39,
     "metadata": {},
     "output_type": "execute_result"
    }
   ],
   "source": [
    "# Region\n",
    "df.groupby('Region')['median_dspo'].agg(['mean', 'max', 'min'])"
   ]
  },
  {
   "cell_type": "markdown",
   "id": "64b3a565",
   "metadata": {},
   "source": [
    "Also no difference."
   ]
  },
  {
   "cell_type": "markdown",
   "id": "fab4d83a",
   "metadata": {},
   "source": [
    "### QUESTION: Is the hour of the day where orders are placed influenced by the customer's family profile? income group? region?"
   ]
  },
  {
   "cell_type": "code",
   "execution_count": 35,
   "id": "8b54c086",
   "metadata": {},
   "outputs": [],
   "source": [
    "# Creation of a crosstab to answer the question about family's profile\n",
    "crosstab = pd.crosstab(df['customer_profile'], df['busiest_period_of_day'], dropna = False)\n",
    "crosstab.to_clipboard()\n",
    "# Viz created on Excel - see report"
   ]
  },
  {
   "cell_type": "code",
   "execution_count": 36,
   "id": "5a1d8c83",
   "metadata": {},
   "outputs": [],
   "source": [
    "# Creation of a crosstab to answer the question about income group\n",
    "crosstab2 = pd.crosstab(df['income_group'], df['busiest_period_of_day'], dropna = False)\n",
    "crosstab2.to_clipboard()\n",
    "# Viz created on Excel - see report"
   ]
  },
  {
   "cell_type": "code",
   "execution_count": 41,
   "id": "56c42534",
   "metadata": {},
   "outputs": [],
   "source": [
    "# Creation of a crosstab to answer the question about region\n",
    "crosstab3 = pd.crosstab(df['Region'], df['busiest_period_of_day'], dropna = False)\n",
    "crosstab3.to_clipboard()\n",
    "# Viz created on Excel - see report"
   ]
  },
  {
   "cell_type": "markdown",
   "id": "79bbaa8c",
   "metadata": {},
   "source": [
    "### QUESTION: Is the type of goods (department_id) influenced by the customer's family profile? income group? region?"
   ]
  },
  {
   "cell_type": "code",
   "execution_count": 43,
   "id": "f9a10cbd",
   "metadata": {},
   "outputs": [],
   "source": [
    "# Creation of a crosstab to answer the question about family's profile\n",
    "crosstab4 = pd.crosstab(df['customer_profile'], df['department_id'], dropna = False)\n",
    "crosstab4.to_clipboard()\n",
    "# Viz created on Excel - see report"
   ]
  },
  {
   "cell_type": "code",
   "execution_count": 44,
   "id": "8e6fa9a9",
   "metadata": {},
   "outputs": [],
   "source": [
    "# Creation of a crosstab to answer the question about income group\n",
    "crosstab5 = pd.crosstab(df['income_group'], df['department_id'], dropna = False)\n",
    "crosstab5.to_clipboard()\n",
    "# Viz created on Excel - see report"
   ]
  },
  {
   "cell_type": "code",
   "execution_count": 45,
   "id": "cfca7e2e",
   "metadata": {},
   "outputs": [],
   "source": [
    "# Creation of a crosstab to answer the question about region\n",
    "crosstab6 = pd.crosstab(df['Region'], df['department_id'], dropna = False)\n",
    "crosstab6.to_clipboard()\n",
    "# Viz created on Excel - see report"
   ]
  },
  {
   "cell_type": "markdown",
   "id": "469229cf",
   "metadata": {},
   "source": [
    "### QUESTION: Is the price of the products ordered influenced by the customer's family profile? income group? region?"
   ]
  },
  {
   "cell_type": "code",
   "execution_count": 47,
   "id": "e71dc6a0",
   "metadata": {},
   "outputs": [],
   "source": [
    "# Creation of a crosstab to answer the question about family's profile\n",
    "crosstab7 = pd.crosstab(df['customer_profile'], df['price_range_loc'], dropna = False)\n",
    "crosstab7.to_clipboard()\n",
    "# Viz created on Excel - see report"
   ]
  },
  {
   "cell_type": "code",
   "execution_count": 48,
   "id": "a4e882df",
   "metadata": {},
   "outputs": [],
   "source": [
    "# Creation of a crosstab to answer the question about income group\n",
    "crosstab5 = pd.crosstab(df['income_group'], df['price_range_loc'], dropna = False)\n",
    "crosstab5.to_clipboard()\n",
    "# Viz created on Excel - see report"
   ]
  },
  {
   "cell_type": "code",
   "execution_count": 49,
   "id": "9d2d19b2",
   "metadata": {},
   "outputs": [],
   "source": [
    "# Creation of a crosstab to answer the question about region\n",
    "crosstab6 = pd.crosstab(df['Region'], df['price_range_loc'], dropna = False)\n",
    "crosstab6.to_clipboard()\n",
    "# Viz created on Excel - see report"
   ]
  },
  {
   "cell_type": "markdown",
   "id": "d2d8dd33",
   "metadata": {},
   "source": [
    "### QUESTION: Is the average total price of the orders influenced by the customer's family profile? income group? region?"
   ]
  },
  {
   "cell_type": "code",
   "execution_count": 5,
   "id": "5a592050",
   "metadata": {},
   "outputs": [
    {
     "ename": "MemoryError",
     "evalue": "Unable to allocate 3.23 GiB for an array with shape (14, 30964564) and data type int64",
     "output_type": "error",
     "traceback": [
      "\u001b[1;31m---------------------------------------------------------------------------\u001b[0m",
      "\u001b[1;31mMemoryError\u001b[0m                               Traceback (most recent call last)",
      "Cell \u001b[1;32mIn[5], line 16\u001b[0m\n\u001b[0;32m     13\u001b[0m     \u001b[38;5;28;01mreturn\u001b[39;00m profile_avg_spent\n\u001b[0;32m     15\u001b[0m \u001b[38;5;66;03m# Get the average amount spent per order for each customer profile\u001b[39;00m\n\u001b[1;32m---> 16\u001b[0m result \u001b[38;5;241m=\u001b[39m average_amount_spent_per_order(df)\n\u001b[0;32m     18\u001b[0m \u001b[38;5;28mprint\u001b[39m(result)\n",
      "Cell \u001b[1;32mIn[5], line 7\u001b[0m, in \u001b[0;36maverage_amount_spent_per_order\u001b[1;34m(df)\u001b[0m\n\u001b[0;32m      4\u001b[0m order_totals\u001b[38;5;241m.\u001b[39mrename(columns\u001b[38;5;241m=\u001b[39m{\u001b[38;5;124m'\u001b[39m\u001b[38;5;124mprices\u001b[39m\u001b[38;5;124m'\u001b[39m: \u001b[38;5;124m'\u001b[39m\u001b[38;5;124mtotal_amount\u001b[39m\u001b[38;5;124m'\u001b[39m}, inplace\u001b[38;5;241m=\u001b[39m\u001b[38;5;28;01mTrue\u001b[39;00m)\n\u001b[0;32m      6\u001b[0m \u001b[38;5;66;03m# Merge the order totals back to the original DataFrame to get customer profiles\u001b[39;00m\n\u001b[1;32m----> 7\u001b[0m df \u001b[38;5;241m=\u001b[39m df\u001b[38;5;241m.\u001b[39mmerge(order_totals, on\u001b[38;5;241m=\u001b[39m\u001b[38;5;124m'\u001b[39m\u001b[38;5;124morder_id\u001b[39m\u001b[38;5;124m'\u001b[39m)\n\u001b[0;32m      9\u001b[0m \u001b[38;5;66;03m# Calculate the average amount spent per order for each customer profile\u001b[39;00m\n\u001b[0;32m     10\u001b[0m profile_avg_spent \u001b[38;5;241m=\u001b[39m df\u001b[38;5;241m.\u001b[39mgroupby(\u001b[38;5;124m'\u001b[39m\u001b[38;5;124mcustomer_profile\u001b[39m\u001b[38;5;124m'\u001b[39m)[\u001b[38;5;124m'\u001b[39m\u001b[38;5;124mtotal_amount\u001b[39m\u001b[38;5;124m'\u001b[39m]\u001b[38;5;241m.\u001b[39mmean()\u001b[38;5;241m.\u001b[39mreset_index()\n",
      "File \u001b[1;32m~\\anaconda3\\Lib\\site-packages\\pandas\\core\\frame.py:10819\u001b[0m, in \u001b[0;36mDataFrame.merge\u001b[1;34m(self, right, how, on, left_on, right_on, left_index, right_index, sort, suffixes, copy, indicator, validate)\u001b[0m\n\u001b[0;32m  10800\u001b[0m \u001b[38;5;129m@Substitution\u001b[39m(\u001b[38;5;124m\"\u001b[39m\u001b[38;5;124m\"\u001b[39m)\n\u001b[0;32m  10801\u001b[0m \u001b[38;5;129m@Appender\u001b[39m(_merge_doc, indents\u001b[38;5;241m=\u001b[39m\u001b[38;5;241m2\u001b[39m)\n\u001b[0;32m  10802\u001b[0m \u001b[38;5;28;01mdef\u001b[39;00m \u001b[38;5;21mmerge\u001b[39m(\n\u001b[1;32m   (...)\u001b[0m\n\u001b[0;32m  10815\u001b[0m     validate: MergeValidate \u001b[38;5;241m|\u001b[39m \u001b[38;5;28;01mNone\u001b[39;00m \u001b[38;5;241m=\u001b[39m \u001b[38;5;28;01mNone\u001b[39;00m,\n\u001b[0;32m  10816\u001b[0m ) \u001b[38;5;241m-\u001b[39m\u001b[38;5;241m>\u001b[39m DataFrame:\n\u001b[0;32m  10817\u001b[0m     \u001b[38;5;28;01mfrom\u001b[39;00m \u001b[38;5;21;01mpandas\u001b[39;00m\u001b[38;5;21;01m.\u001b[39;00m\u001b[38;5;21;01mcore\u001b[39;00m\u001b[38;5;21;01m.\u001b[39;00m\u001b[38;5;21;01mreshape\u001b[39;00m\u001b[38;5;21;01m.\u001b[39;00m\u001b[38;5;21;01mmerge\u001b[39;00m \u001b[38;5;28;01mimport\u001b[39;00m merge\n\u001b[1;32m> 10819\u001b[0m     \u001b[38;5;28;01mreturn\u001b[39;00m merge(\n\u001b[0;32m  10820\u001b[0m         \u001b[38;5;28mself\u001b[39m,\n\u001b[0;32m  10821\u001b[0m         right,\n\u001b[0;32m  10822\u001b[0m         how\u001b[38;5;241m=\u001b[39mhow,\n\u001b[0;32m  10823\u001b[0m         on\u001b[38;5;241m=\u001b[39mon,\n\u001b[0;32m  10824\u001b[0m         left_on\u001b[38;5;241m=\u001b[39mleft_on,\n\u001b[0;32m  10825\u001b[0m         right_on\u001b[38;5;241m=\u001b[39mright_on,\n\u001b[0;32m  10826\u001b[0m         left_index\u001b[38;5;241m=\u001b[39mleft_index,\n\u001b[0;32m  10827\u001b[0m         right_index\u001b[38;5;241m=\u001b[39mright_index,\n\u001b[0;32m  10828\u001b[0m         sort\u001b[38;5;241m=\u001b[39msort,\n\u001b[0;32m  10829\u001b[0m         suffixes\u001b[38;5;241m=\u001b[39msuffixes,\n\u001b[0;32m  10830\u001b[0m         copy\u001b[38;5;241m=\u001b[39mcopy,\n\u001b[0;32m  10831\u001b[0m         indicator\u001b[38;5;241m=\u001b[39mindicator,\n\u001b[0;32m  10832\u001b[0m         validate\u001b[38;5;241m=\u001b[39mvalidate,\n\u001b[0;32m  10833\u001b[0m     )\n",
      "File \u001b[1;32m~\\anaconda3\\Lib\\site-packages\\pandas\\core\\reshape\\merge.py:184\u001b[0m, in \u001b[0;36mmerge\u001b[1;34m(left, right, how, on, left_on, right_on, left_index, right_index, sort, suffixes, copy, indicator, validate)\u001b[0m\n\u001b[0;32m    169\u001b[0m \u001b[38;5;28;01melse\u001b[39;00m:\n\u001b[0;32m    170\u001b[0m     op \u001b[38;5;241m=\u001b[39m _MergeOperation(\n\u001b[0;32m    171\u001b[0m         left_df,\n\u001b[0;32m    172\u001b[0m         right_df,\n\u001b[1;32m   (...)\u001b[0m\n\u001b[0;32m    182\u001b[0m         validate\u001b[38;5;241m=\u001b[39mvalidate,\n\u001b[0;32m    183\u001b[0m     )\n\u001b[1;32m--> 184\u001b[0m     \u001b[38;5;28;01mreturn\u001b[39;00m op\u001b[38;5;241m.\u001b[39mget_result(copy\u001b[38;5;241m=\u001b[39mcopy)\n",
      "File \u001b[1;32m~\\anaconda3\\Lib\\site-packages\\pandas\\core\\reshape\\merge.py:888\u001b[0m, in \u001b[0;36m_MergeOperation.get_result\u001b[1;34m(self, copy)\u001b[0m\n\u001b[0;32m    884\u001b[0m     \u001b[38;5;28mself\u001b[39m\u001b[38;5;241m.\u001b[39mleft, \u001b[38;5;28mself\u001b[39m\u001b[38;5;241m.\u001b[39mright \u001b[38;5;241m=\u001b[39m \u001b[38;5;28mself\u001b[39m\u001b[38;5;241m.\u001b[39m_indicator_pre_merge(\u001b[38;5;28mself\u001b[39m\u001b[38;5;241m.\u001b[39mleft, \u001b[38;5;28mself\u001b[39m\u001b[38;5;241m.\u001b[39mright)\n\u001b[0;32m    886\u001b[0m join_index, left_indexer, right_indexer \u001b[38;5;241m=\u001b[39m \u001b[38;5;28mself\u001b[39m\u001b[38;5;241m.\u001b[39m_get_join_info()\n\u001b[1;32m--> 888\u001b[0m result \u001b[38;5;241m=\u001b[39m \u001b[38;5;28mself\u001b[39m\u001b[38;5;241m.\u001b[39m_reindex_and_concat(\n\u001b[0;32m    889\u001b[0m     join_index, left_indexer, right_indexer, copy\u001b[38;5;241m=\u001b[39mcopy\n\u001b[0;32m    890\u001b[0m )\n\u001b[0;32m    891\u001b[0m result \u001b[38;5;241m=\u001b[39m result\u001b[38;5;241m.\u001b[39m__finalize__(\u001b[38;5;28mself\u001b[39m, method\u001b[38;5;241m=\u001b[39m\u001b[38;5;28mself\u001b[39m\u001b[38;5;241m.\u001b[39m_merge_type)\n\u001b[0;32m    893\u001b[0m \u001b[38;5;28;01mif\u001b[39;00m \u001b[38;5;28mself\u001b[39m\u001b[38;5;241m.\u001b[39mindicator:\n",
      "File \u001b[1;32m~\\anaconda3\\Lib\\site-packages\\pandas\\core\\reshape\\merge.py:879\u001b[0m, in \u001b[0;36m_MergeOperation._reindex_and_concat\u001b[1;34m(self, join_index, left_indexer, right_indexer, copy)\u001b[0m\n\u001b[0;32m    877\u001b[0m left\u001b[38;5;241m.\u001b[39mcolumns \u001b[38;5;241m=\u001b[39m llabels\n\u001b[0;32m    878\u001b[0m right\u001b[38;5;241m.\u001b[39mcolumns \u001b[38;5;241m=\u001b[39m rlabels\n\u001b[1;32m--> 879\u001b[0m result \u001b[38;5;241m=\u001b[39m concat([left, right], axis\u001b[38;5;241m=\u001b[39m\u001b[38;5;241m1\u001b[39m, copy\u001b[38;5;241m=\u001b[39mcopy)\n\u001b[0;32m    880\u001b[0m \u001b[38;5;28;01mreturn\u001b[39;00m result\n",
      "File \u001b[1;32m~\\anaconda3\\Lib\\site-packages\\pandas\\core\\reshape\\concat.py:395\u001b[0m, in \u001b[0;36mconcat\u001b[1;34m(objs, axis, join, ignore_index, keys, levels, names, verify_integrity, sort, copy)\u001b[0m\n\u001b[0;32m    380\u001b[0m     copy \u001b[38;5;241m=\u001b[39m \u001b[38;5;28;01mFalse\u001b[39;00m\n\u001b[0;32m    382\u001b[0m op \u001b[38;5;241m=\u001b[39m _Concatenator(\n\u001b[0;32m    383\u001b[0m     objs,\n\u001b[0;32m    384\u001b[0m     axis\u001b[38;5;241m=\u001b[39maxis,\n\u001b[1;32m   (...)\u001b[0m\n\u001b[0;32m    392\u001b[0m     sort\u001b[38;5;241m=\u001b[39msort,\n\u001b[0;32m    393\u001b[0m )\n\u001b[1;32m--> 395\u001b[0m \u001b[38;5;28;01mreturn\u001b[39;00m op\u001b[38;5;241m.\u001b[39mget_result()\n",
      "File \u001b[1;32m~\\anaconda3\\Lib\\site-packages\\pandas\\core\\reshape\\concat.py:684\u001b[0m, in \u001b[0;36m_Concatenator.get_result\u001b[1;34m(self)\u001b[0m\n\u001b[0;32m    680\u001b[0m             indexers[ax] \u001b[38;5;241m=\u001b[39m obj_labels\u001b[38;5;241m.\u001b[39mget_indexer(new_labels)\n\u001b[0;32m    682\u001b[0m     mgrs_indexers\u001b[38;5;241m.\u001b[39mappend((obj\u001b[38;5;241m.\u001b[39m_mgr, indexers))\n\u001b[1;32m--> 684\u001b[0m new_data \u001b[38;5;241m=\u001b[39m concatenate_managers(\n\u001b[0;32m    685\u001b[0m     mgrs_indexers, \u001b[38;5;28mself\u001b[39m\u001b[38;5;241m.\u001b[39mnew_axes, concat_axis\u001b[38;5;241m=\u001b[39m\u001b[38;5;28mself\u001b[39m\u001b[38;5;241m.\u001b[39mbm_axis, copy\u001b[38;5;241m=\u001b[39m\u001b[38;5;28mself\u001b[39m\u001b[38;5;241m.\u001b[39mcopy\n\u001b[0;32m    686\u001b[0m )\n\u001b[0;32m    687\u001b[0m \u001b[38;5;28;01mif\u001b[39;00m \u001b[38;5;129;01mnot\u001b[39;00m \u001b[38;5;28mself\u001b[39m\u001b[38;5;241m.\u001b[39mcopy \u001b[38;5;129;01mand\u001b[39;00m \u001b[38;5;129;01mnot\u001b[39;00m using_copy_on_write():\n\u001b[0;32m    688\u001b[0m     new_data\u001b[38;5;241m.\u001b[39m_consolidate_inplace()\n",
      "File \u001b[1;32m~\\anaconda3\\Lib\\site-packages\\pandas\\core\\internals\\concat.py:131\u001b[0m, in \u001b[0;36mconcatenate_managers\u001b[1;34m(mgrs_indexers, axes, concat_axis, copy)\u001b[0m\n\u001b[0;32m    124\u001b[0m \u001b[38;5;66;03m# Assertions disabled for performance\u001b[39;00m\n\u001b[0;32m    125\u001b[0m \u001b[38;5;66;03m# for tup in mgrs_indexers:\u001b[39;00m\n\u001b[0;32m    126\u001b[0m \u001b[38;5;66;03m#    # caller is responsible for ensuring this\u001b[39;00m\n\u001b[0;32m    127\u001b[0m \u001b[38;5;66;03m#    indexers = tup[1]\u001b[39;00m\n\u001b[0;32m    128\u001b[0m \u001b[38;5;66;03m#    assert concat_axis not in indexers\u001b[39;00m\n\u001b[0;32m    130\u001b[0m \u001b[38;5;28;01mif\u001b[39;00m concat_axis \u001b[38;5;241m==\u001b[39m \u001b[38;5;241m0\u001b[39m:\n\u001b[1;32m--> 131\u001b[0m     mgrs \u001b[38;5;241m=\u001b[39m _maybe_reindex_columns_na_proxy(axes, mgrs_indexers, needs_copy)\n\u001b[0;32m    132\u001b[0m     \u001b[38;5;28;01mreturn\u001b[39;00m mgrs[\u001b[38;5;241m0\u001b[39m]\u001b[38;5;241m.\u001b[39mconcat_horizontal(mgrs, axes)\n\u001b[0;32m    134\u001b[0m \u001b[38;5;28;01mif\u001b[39;00m \u001b[38;5;28mlen\u001b[39m(mgrs_indexers) \u001b[38;5;241m>\u001b[39m \u001b[38;5;241m0\u001b[39m \u001b[38;5;129;01mand\u001b[39;00m mgrs_indexers[\u001b[38;5;241m0\u001b[39m][\u001b[38;5;241m0\u001b[39m]\u001b[38;5;241m.\u001b[39mnblocks \u001b[38;5;241m>\u001b[39m \u001b[38;5;241m0\u001b[39m:\n",
      "File \u001b[1;32m~\\anaconda3\\Lib\\site-packages\\pandas\\core\\internals\\concat.py:230\u001b[0m, in \u001b[0;36m_maybe_reindex_columns_na_proxy\u001b[1;34m(axes, mgrs_indexers, needs_copy)\u001b[0m\n\u001b[0;32m    220\u001b[0m         mgr \u001b[38;5;241m=\u001b[39m mgr\u001b[38;5;241m.\u001b[39mreindex_indexer(\n\u001b[0;32m    221\u001b[0m             axes[i],\n\u001b[0;32m    222\u001b[0m             indexers[i],\n\u001b[1;32m   (...)\u001b[0m\n\u001b[0;32m    227\u001b[0m             use_na_proxy\u001b[38;5;241m=\u001b[39m\u001b[38;5;28;01mTrue\u001b[39;00m,  \u001b[38;5;66;03m# only relevant for i==0\u001b[39;00m\n\u001b[0;32m    228\u001b[0m         )\n\u001b[0;32m    229\u001b[0m     \u001b[38;5;28;01mif\u001b[39;00m needs_copy \u001b[38;5;129;01mand\u001b[39;00m \u001b[38;5;129;01mnot\u001b[39;00m indexers:\n\u001b[1;32m--> 230\u001b[0m         mgr \u001b[38;5;241m=\u001b[39m mgr\u001b[38;5;241m.\u001b[39mcopy()\n\u001b[0;32m    232\u001b[0m     new_mgrs\u001b[38;5;241m.\u001b[39mappend(mgr)\n\u001b[0;32m    233\u001b[0m \u001b[38;5;28;01mreturn\u001b[39;00m new_mgrs\n",
      "File \u001b[1;32m~\\anaconda3\\Lib\\site-packages\\pandas\\core\\internals\\managers.py:604\u001b[0m, in \u001b[0;36mBaseBlockManager.copy\u001b[1;34m(self, deep)\u001b[0m\n\u001b[0;32m    601\u001b[0m         res\u001b[38;5;241m.\u001b[39m_blklocs \u001b[38;5;241m=\u001b[39m \u001b[38;5;28mself\u001b[39m\u001b[38;5;241m.\u001b[39m_blklocs\u001b[38;5;241m.\u001b[39mcopy()\n\u001b[0;32m    603\u001b[0m \u001b[38;5;28;01mif\u001b[39;00m deep:\n\u001b[1;32m--> 604\u001b[0m     res\u001b[38;5;241m.\u001b[39m_consolidate_inplace()\n\u001b[0;32m    605\u001b[0m \u001b[38;5;28;01mreturn\u001b[39;00m res\n",
      "File \u001b[1;32m~\\anaconda3\\Lib\\site-packages\\pandas\\core\\internals\\managers.py:1786\u001b[0m, in \u001b[0;36mBlockManager._consolidate_inplace\u001b[1;34m(self)\u001b[0m\n\u001b[0;32m   1780\u001b[0m \u001b[38;5;28;01mdef\u001b[39;00m \u001b[38;5;21m_consolidate_inplace\u001b[39m(\u001b[38;5;28mself\u001b[39m) \u001b[38;5;241m-\u001b[39m\u001b[38;5;241m>\u001b[39m \u001b[38;5;28;01mNone\u001b[39;00m:\n\u001b[0;32m   1781\u001b[0m     \u001b[38;5;66;03m# In general, _consolidate_inplace should only be called via\u001b[39;00m\n\u001b[0;32m   1782\u001b[0m     \u001b[38;5;66;03m#  DataFrame._consolidate_inplace, otherwise we will fail to invalidate\u001b[39;00m\n\u001b[0;32m   1783\u001b[0m     \u001b[38;5;66;03m#  the DataFrame's _item_cache. The exception is for newly-created\u001b[39;00m\n\u001b[0;32m   1784\u001b[0m     \u001b[38;5;66;03m#  BlockManager objects not yet attached to a DataFrame.\u001b[39;00m\n\u001b[0;32m   1785\u001b[0m     \u001b[38;5;28;01mif\u001b[39;00m \u001b[38;5;129;01mnot\u001b[39;00m \u001b[38;5;28mself\u001b[39m\u001b[38;5;241m.\u001b[39mis_consolidated():\n\u001b[1;32m-> 1786\u001b[0m         \u001b[38;5;28mself\u001b[39m\u001b[38;5;241m.\u001b[39mblocks \u001b[38;5;241m=\u001b[39m _consolidate(\u001b[38;5;28mself\u001b[39m\u001b[38;5;241m.\u001b[39mblocks)\n\u001b[0;32m   1787\u001b[0m         \u001b[38;5;28mself\u001b[39m\u001b[38;5;241m.\u001b[39m_is_consolidated \u001b[38;5;241m=\u001b[39m \u001b[38;5;28;01mTrue\u001b[39;00m\n\u001b[0;32m   1788\u001b[0m         \u001b[38;5;28mself\u001b[39m\u001b[38;5;241m.\u001b[39m_known_consolidated \u001b[38;5;241m=\u001b[39m \u001b[38;5;28;01mTrue\u001b[39;00m\n",
      "File \u001b[1;32m~\\anaconda3\\Lib\\site-packages\\pandas\\core\\internals\\managers.py:2267\u001b[0m, in \u001b[0;36m_consolidate\u001b[1;34m(blocks)\u001b[0m\n\u001b[0;32m   2265\u001b[0m new_blocks: \u001b[38;5;28mlist\u001b[39m[Block] \u001b[38;5;241m=\u001b[39m []\n\u001b[0;32m   2266\u001b[0m \u001b[38;5;28;01mfor\u001b[39;00m (_can_consolidate, dtype), group_blocks \u001b[38;5;129;01min\u001b[39;00m grouper:\n\u001b[1;32m-> 2267\u001b[0m     merged_blocks, _ \u001b[38;5;241m=\u001b[39m _merge_blocks(\n\u001b[0;32m   2268\u001b[0m         \u001b[38;5;28mlist\u001b[39m(group_blocks), dtype\u001b[38;5;241m=\u001b[39mdtype, can_consolidate\u001b[38;5;241m=\u001b[39m_can_consolidate\n\u001b[0;32m   2269\u001b[0m     )\n\u001b[0;32m   2270\u001b[0m     new_blocks \u001b[38;5;241m=\u001b[39m extend_blocks(merged_blocks, new_blocks)\n\u001b[0;32m   2271\u001b[0m \u001b[38;5;28;01mreturn\u001b[39;00m \u001b[38;5;28mtuple\u001b[39m(new_blocks)\n",
      "File \u001b[1;32m~\\anaconda3\\Lib\\site-packages\\pandas\\core\\internals\\managers.py:2299\u001b[0m, in \u001b[0;36m_merge_blocks\u001b[1;34m(blocks, dtype, can_consolidate)\u001b[0m\n\u001b[0;32m   2296\u001b[0m     new_values \u001b[38;5;241m=\u001b[39m bvals2[\u001b[38;5;241m0\u001b[39m]\u001b[38;5;241m.\u001b[39m_concat_same_type(bvals2, axis\u001b[38;5;241m=\u001b[39m\u001b[38;5;241m0\u001b[39m)\n\u001b[0;32m   2298\u001b[0m argsort \u001b[38;5;241m=\u001b[39m np\u001b[38;5;241m.\u001b[39margsort(new_mgr_locs)\n\u001b[1;32m-> 2299\u001b[0m new_values \u001b[38;5;241m=\u001b[39m new_values[argsort]\n\u001b[0;32m   2300\u001b[0m new_mgr_locs \u001b[38;5;241m=\u001b[39m new_mgr_locs[argsort]\n\u001b[0;32m   2302\u001b[0m bp \u001b[38;5;241m=\u001b[39m BlockPlacement(new_mgr_locs)\n",
      "\u001b[1;31mMemoryError\u001b[0m: Unable to allocate 3.23 GiB for an array with shape (14, 30964564) and data type int64"
     ]
    }
   ],
   "source": [
    "def average_amount_spent_per_order(df):\n",
    "    # Calculate the total amount spent per order\n",
    "    order_totals = df.groupby('order_id')['prices'].sum().reset_index()\n",
    "    order_totals.rename(columns={'prices': 'total_amount'}, inplace=True)\n",
    "\n",
    "    # Merge the order totals back to the original DataFrame to get customer profiles\n",
    "    df = df.merge(order_totals, on='order_id')\n",
    "\n",
    "    # Calculate the average amount spent per order for each customer profile\n",
    "    profile_avg_spent = df.groupby('customer_profile')['total_amount'].mean().reset_index()\n",
    "    profile_avg_spent.rename(columns={'total_amount': 'average_amount_spent'}, inplace=True)\n",
    "\n",
    "    return profile_avg_spent\n",
    "\n",
    "# Get the average amount spent per order for each customer profile\n",
    "result = average_amount_spent_per_order(df)\n",
    "\n",
    "print(result)"
   ]
  },
  {
   "cell_type": "markdown",
   "id": "944b604e",
   "metadata": {},
   "source": [
    "I'm getting a memory error again. I think this question would give some very relevant insight, so I'm going to create a 3rd part on another computer with more RAM tham this one tp be able to answer it. (this will be the only content of Part 3)"
   ]
  },
  {
   "cell_type": "code",
   "execution_count": null,
   "id": "500e519f",
   "metadata": {},
   "outputs": [],
   "source": []
  }
 ],
 "metadata": {
  "kernelspec": {
   "display_name": "Python 3 (ipykernel)",
   "language": "python",
   "name": "python3"
  },
  "language_info": {
   "codemirror_mode": {
    "name": "ipython",
    "version": 3
   },
   "file_extension": ".py",
   "mimetype": "text/x-python",
   "name": "python",
   "nbconvert_exporter": "python",
   "pygments_lexer": "ipython3",
   "version": "3.11.7"
  }
 },
 "nbformat": 4,
 "nbformat_minor": 5
}
