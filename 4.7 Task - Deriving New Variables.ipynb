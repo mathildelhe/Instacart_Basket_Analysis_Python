{
 "cells": [
  {
   "cell_type": "code",
   "execution_count": 1,
   "id": "005ef650",
   "metadata": {},
   "outputs": [],
   "source": [
    "#importing libraries\n",
    "import pandas as pd\n",
    "import numpy as np\n",
    "import os"
   ]
  },
  {
   "cell_type": "code",
   "execution_count": 2,
   "id": "1a1a56be",
   "metadata": {},
   "outputs": [],
   "source": [
    "#importing data\n",
    "#create path\n",
    "path = r'C:\\Users\\Mathilde\\Documents\\DATA ANALYSIS CAREERFOUNDRY\\May 2024 - Instacart Basket Analysis'\n",
    "#orders product combined data\n",
    "df_ords_prods = pd.read_pickle(os.path.join(path, '02 Data', 'Prepared data', 'ords_prods_merge.pkl'))"
   ]
  },
  {
   "cell_type": "markdown",
   "id": "f4b54a6e",
   "metadata": {},
   "source": [
    "# Create price labels"
   ]
  },
  {
   "cell_type": "code",
   "execution_count": 3,
   "id": "4e819d99",
   "metadata": {},
   "outputs": [],
   "source": [
    "#defining function\n",
    "def price_label(row):\n",
    "\n",
    "  if row['prices'] <= 5:\n",
    "    return 'Low-range product'\n",
    "  elif (row['prices'] > 5) and (row['prices'] <= 15):\n",
    "    return 'Mid-range product'\n",
    "  elif row['prices'] > 15:\n",
    "    return 'High range'\n",
    "  else: return 'Not enough data'"
   ]
  },
  {
   "cell_type": "code",
   "execution_count": 4,
   "id": "35348eb3",
   "metadata": {},
   "outputs": [],
   "source": [
    "df_ords_prods.loc[df_ords_prods['prices'] > 15, 'price_range_loc'] = 'High-range product'"
   ]
  },
  {
   "cell_type": "code",
   "execution_count": 5,
   "id": "4596e2eb",
   "metadata": {},
   "outputs": [],
   "source": [
    "df_ords_prods.loc[(df_ords_prods['prices'] <= 15) & (df_ords_prods['prices'] > 5), 'price_range_loc'] = 'Mid-range product' "
   ]
  },
  {
   "cell_type": "code",
   "execution_count": 6,
   "id": "b22d5d87",
   "metadata": {},
   "outputs": [],
   "source": [
    "df_ords_prods.loc[df_ords_prods['prices'] <= 5, 'price_range_loc'] = 'Low-range product'"
   ]
  },
  {
   "cell_type": "code",
   "execution_count": 7,
   "id": "67d8fc76",
   "metadata": {},
   "outputs": [
    {
     "data": {
      "text/plain": [
       "price_range_loc\n",
       "Mid-range product     21861558\n",
       "Low-range product     10130750\n",
       "High-range product      412551\n",
       "Name: count, dtype: int64"
      ]
     },
     "execution_count": 7,
     "metadata": {},
     "output_type": "execute_result"
    }
   ],
   "source": [
    "df_ords_prods['price_range_loc'].value_counts()"
   ]
  },
  {
   "cell_type": "markdown",
   "id": "73f8f765",
   "metadata": {},
   "source": [
    "# Create labels for busy days"
   ]
  },
  {
   "cell_type": "code",
   "execution_count": 8,
   "id": "ea06bf31",
   "metadata": {},
   "outputs": [
    {
     "data": {
      "text/plain": [
       "order_dow\n",
       "0    6204182\n",
       "1    5660230\n",
       "6    4496490\n",
       "2    4213830\n",
       "5    4205791\n",
       "3    3840534\n",
       "4    3783802\n",
       "Name: count, dtype: int64"
      ]
     },
     "execution_count": 8,
     "metadata": {},
     "output_type": "execute_result"
    }
   ],
   "source": [
    "#identifying busy days and least busy days\n",
    "df_ords_prods['order_dow'].value_counts(dropna=False)"
   ]
  },
  {
   "cell_type": "markdown",
   "id": "12eed379",
   "metadata": {},
   "source": [
    "### Observation"
   ]
  },
  {
   "cell_type": "markdown",
   "id": "1b0cf3d4",
   "metadata": {},
   "source": [
    "The most busy day is 0 (Sunday). Second most busy is 1 (Monday). Least busy is 4 (Wednesday). Second least busy is 3 (Tuesday)."
   ]
  },
  {
   "cell_type": "code",
   "execution_count": 9,
   "id": "1cef363b",
   "metadata": {},
   "outputs": [],
   "source": [
    "#labelling busy days\n",
    "result = []\n",
    "\n",
    "for value in df_ords_prods[\"order_dow\"]:\n",
    "  if value == 0:\n",
    "    result.append(\"Busiest days\")\n",
    "  elif value == 4:\n",
    "    result.append(\"Least busy\")\n",
    "  else:\n",
    "    result.append(\"Regularly busy\")"
   ]
  },
  {
   "cell_type": "code",
   "execution_count": 10,
   "id": "ff422d55",
   "metadata": {},
   "outputs": [],
   "source": [
    "#adding the resulting list to the data frame\n",
    "df_ords_prods['busiest_day'] = result"
   ]
  },
  {
   "cell_type": "code",
   "execution_count": 11,
   "id": "0a70febd",
   "metadata": {},
   "outputs": [
    {
     "data": {
      "text/plain": [
       "busiest_day\n",
       "Regularly busy    22416875\n",
       "Busiest days       6204182\n",
       "Least busy         3783802\n",
       "Name: count, dtype: int64"
      ]
     },
     "execution_count": 11,
     "metadata": {},
     "output_type": "execute_result"
    }
   ],
   "source": [
    "#frequency of values\n",
    "df_ords_prods['busiest_day'].value_counts(dropna=False)"
   ]
  },
  {
   "cell_type": "markdown",
   "id": "ce959848",
   "metadata": {},
   "source": [
    "The count of values seem to make sense - the 2 busiest days gat almost as products ordered than the 3 regularly busy days. And the least busy days get much fewer products ordered, also expected, as they're less busy."
   ]
  },
  {
   "cell_type": "markdown",
   "id": "01a8d751",
   "metadata": {},
   "source": [
    "# Create labels for busy hours"
   ]
  },
  {
   "cell_type": "code",
   "execution_count": 14,
   "id": "2b5d85c0",
   "metadata": {},
   "outputs": [
    {
     "data": {
      "text/plain": [
       "order_hour_of_day\n",
       "10    2761760\n",
       "11    2736140\n",
       "14    2689136\n",
       "15    2662144\n",
       "13    2660954\n",
       "12    2618532\n",
       "16    2535202\n",
       "9     2454203\n",
       "17    2087654\n",
       "8     1718118\n",
       "18    1636502\n",
       "19    1258305\n",
       "20     976156\n",
       "7      891054\n",
       "21     795637\n",
       "22     634225\n",
       "23     402316\n",
       "6      290493\n",
       "0      218769\n",
       "1      115700\n",
       "5       87961\n",
       "2       69375\n",
       "4       53242\n",
       "3       51281\n",
       "Name: count, dtype: int64"
      ]
     },
     "execution_count": 14,
     "metadata": {},
     "output_type": "execute_result"
    }
   ],
   "source": [
    "#identifying busy hours and less busy hours\n",
    "df_ords_prods['order_hour_of_day'].value_counts(dropna=False)"
   ]
  },
  {
   "cell_type": "markdown",
   "id": "4c0292db",
   "metadata": {},
   "source": [
    "### Observation"
   ]
  },
  {
   "cell_type": "markdown",
   "id": "76d9a0ed",
   "metadata": {},
   "source": [
    "We could identify more or less large periods of time (for exemple, top 2 busiest hours, or top 8 etc.)\n",
    "I was thibking of taking top 4 or top 5, but it wouldn't work, as it would create 2 distinct periods (10-11 and then 13-15, or 14-15.) So I'll go for top 6 hours and get the uninterrupted period 10-15 (10am-3pm). It also works for the bottom 6, getting the low period of 0-5 (12am - 5am)"
   ]
  },
  {
   "cell_type": "code",
   "execution_count": 18,
   "id": "69cabf1e",
   "metadata": {},
   "outputs": [],
   "source": [
    "#labelling busy periods\n",
    "result2 = []\n",
    "\n",
    "for value in df_ords_prods[\"order_hour_of_day\"]:\n",
    "  if value >= 10 and value <= 15:\n",
    "    result2.append(\"Most orders\")\n",
    "  elif value >= 0 and value <= 5:\n",
    "    result2.append(\"Fewest orders\")\n",
    "  else:\n",
    "    result2.append(\"Average orders\")"
   ]
  },
  {
   "cell_type": "code",
   "execution_count": 19,
   "id": "fc772b58",
   "metadata": {},
   "outputs": [],
   "source": [
    "#adding the resulting list to the data frame\n",
    "df_ords_prods['busiest_period_of_day'] = result2"
   ]
  },
  {
   "cell_type": "code",
   "execution_count": 20,
   "id": "67d2cd81",
   "metadata": {},
   "outputs": [
    {
     "data": {
      "text/plain": [
       "busiest_period_of_day\n",
       "Most orders       16128666\n",
       "Average orders    15679865\n",
       "Fewest orders       596328\n",
       "Name: count, dtype: int64"
      ]
     },
     "execution_count": 20,
     "metadata": {},
     "output_type": "execute_result"
    }
   ],
   "source": [
    "#frequency of values\n",
    "df_ords_prods['busiest_period_of_day'].value_counts(dropna=False)"
   ]
  },
  {
   "cell_type": "markdown",
   "id": "e83b8320",
   "metadata": {},
   "source": [
    "# Exporting new data frame"
   ]
  },
  {
   "cell_type": "code",
   "execution_count": 24,
   "id": "60cf6705",
   "metadata": {},
   "outputs": [],
   "source": [
    "df_ords_prods.to_pickle(os.path.join(path, '02 Data','Prepared Data', 'ords_prods_merge_derived.pkl'))"
   ]
  },
  {
   "cell_type": "code",
   "execution_count": null,
   "id": "e311cf34",
   "metadata": {},
   "outputs": [],
   "source": []
  }
 ],
 "metadata": {
  "kernelspec": {
   "display_name": "Python 3 (ipykernel)",
   "language": "python",
   "name": "python3"
  },
  "language_info": {
   "codemirror_mode": {
    "name": "ipython",
    "version": 3
   },
   "file_extension": ".py",
   "mimetype": "text/x-python",
   "name": "python",
   "nbconvert_exporter": "python",
   "pygments_lexer": "ipython3",
   "version": "3.11.7"
  }
 },
 "nbformat": 4,
 "nbformat_minor": 5
}
