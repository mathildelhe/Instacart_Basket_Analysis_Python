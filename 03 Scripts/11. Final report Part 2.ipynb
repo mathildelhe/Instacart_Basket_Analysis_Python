{
 "cells": [
  {
   "cell_type": "code",
   "execution_count": 1,
   "id": "2ab1bde3",
   "metadata": {},
   "outputs": [],
   "source": [
    "#importing libraries\n",
    "import pandas as pd\n",
    "import numpy as np\n",
    "import os\n",
    "import matplotlib.pyplot as plt\n",
    "import seaborn as sns"
   ]
  },
  {
   "cell_type": "code",
   "execution_count": 3,
   "id": "e840d258-79d7-43a7-a96e-13840f89cf64",
   "metadata": {},
   "outputs": [],
   "source": [
    "#importing data\n",
    "df = pd.read_pickle('/Users/carlosgarciarodriguez/Documents/Mathilde/02 Data/Prepared data/ords_prods_customer_profiles.pkl')"
   ]
  },
  {
   "cell_type": "markdown",
   "id": "4e412448",
   "metadata": {},
   "source": [
    "## Descriptive stats based on customer profiles"
   ]
  },
  {
   "cell_type": "markdown",
   "id": "79bbaa8c",
   "metadata": {},
   "source": [
    "### QUESTION: Is the total price of orders influenced by the customer's family profile? income group? region?"
   ]
  },
  {
   "cell_type": "markdown",
   "id": "7f3bcc0e-cf9b-4eb0-a2b3-cad9722dd552",
   "metadata": {},
   "source": [
    "We already answered the question regarding the average price of items purchased. But I think it would be a lot more interesting to consider the total price of each order."
   ]
  },
  {
   "cell_type": "code",
   "execution_count": 19,
   "id": "5a592050",
   "metadata": {},
   "outputs": [
    {
     "name": "stdout",
     "output_type": "stream",
     "text": [
      "         customer_profile  average_amount_spent\n",
      "0  Adult without children            122.435714\n",
      "1          Parent over 30            122.391463\n",
      "2    Single adult over 30            121.253469\n",
      "3           Single parent            122.450525\n",
      "4            Young parent            122.249465\n",
      "5      Young single adult            122.069701\n"
     ]
    }
   ],
   "source": [
    "# Answering the question for customer family profile\n",
    "def average_amount_spent_per_order(df):\n",
    "    # Calculate the total amount spent per order\n",
    "    order_totals = df.groupby('order_id')['prices'].sum().reset_index()\n",
    "    order_totals.rename(columns={'prices': 'total_amount'}, inplace=True)\n",
    "\n",
    "    # Merge the order totals back to the original DataFrame to get customer profiles\n",
    "    df = df.merge(order_totals, on='order_id')\n",
    "\n",
    "    # Calculate the average amount spent per order for each customer profile\n",
    "    profile_avg_spent = df.groupby('customer_profile')['total_amount'].mean().reset_index()\n",
    "    profile_avg_spent.rename(columns={'total_amount': 'average_amount_spent'}, inplace=True)\n",
    "\n",
    "    return profile_avg_spent\n",
    "\n",
    "# Get the average amount spent per order for each customer profile\n",
    "result = average_amount_spent_per_order(df)\n",
    "\n",
    "print(result)"
   ]
  },
  {
   "cell_type": "code",
   "execution_count": 21,
   "id": "f0306389",
   "metadata": {},
   "outputs": [
    {
     "name": "stdout",
     "output_type": "stream",
     "text": [
      "    income_group  average_amount_spent\n",
      "0    High Income            125.832301\n",
      "1     Low Income             92.971994\n",
      "2  Middle Income            125.792641\n"
     ]
    }
   ],
   "source": [
    "# Answering the question for income groups\n",
    "def average_amount_spent_per_order(df):\n",
    "    # Calculate the total amount spent per order\n",
    "    order_totals = df.groupby('order_id')['prices'].sum().reset_index()\n",
    "    order_totals.rename(columns={'prices': 'total_amount'}, inplace=True)\n",
    "\n",
    "    # Merge the order totals back to the original DataFrame to get income groups\n",
    "    df = df.merge(order_totals, on='order_id')\n",
    "\n",
    "    # Calculate the average amount spent per order for each income group\n",
    "    profile_avg_spent = df.groupby('income_group')['total_amount'].mean().reset_index()\n",
    "    profile_avg_spent.rename(columns={'total_amount': 'average_amount_spent'}, inplace=True)\n",
    "\n",
    "    return profile_avg_spent\n",
    "\n",
    "# Get the average amount spent per order for income group\n",
    "result = average_amount_spent_per_order(df)\n",
    "\n",
    "print(result)"
   ]
  },
  {
   "cell_type": "code",
   "execution_count": 23,
   "id": "647d323c-ae4f-46ed-aec9-a8c6661e76df",
   "metadata": {},
   "outputs": [
    {
     "name": "stdout",
     "output_type": "stream",
     "text": [
      "      Region  average_amount_spent\n",
      "0    Midwest            122.162327\n",
      "1  Northeast            122.291341\n",
      "2      South            122.343237\n",
      "3       West            122.124886\n"
     ]
    }
   ],
   "source": [
    "# Answering the question for regions\n",
    "def average_amount_spent_per_order(df):\n",
    "    # Calculate the total amount spent per order\n",
    "    order_totals = df.groupby('order_id')['prices'].sum().reset_index()\n",
    "    order_totals.rename(columns={'prices': 'total_amount'}, inplace=True)\n",
    "\n",
    "    # Merge the order totals back to the original DataFrame to get regions\n",
    "    df = df.merge(order_totals, on='order_id')\n",
    "\n",
    "    # Calculate the average amount spent per order for each region\n",
    "    profile_avg_spent = df.groupby('Region')['total_amount'].mean().reset_index()\n",
    "    profile_avg_spent.rename(columns={'total_amount': 'average_amount_spent'}, inplace=True)\n",
    "\n",
    "    return profile_avg_spent\n",
    "\n",
    "# Get the average amount spent per order for each region\n",
    "result = average_amount_spent_per_order(df)\n",
    "\n",
    "print(result)"
   ]
  },
  {
   "cell_type": "code",
   "execution_count": null,
   "id": "f330696a-62a9-4fbc-a625-046adc4f3a5d",
   "metadata": {},
   "outputs": [],
   "source": [
    "# Export new df\n",
    "df.to_pickle('/Users/carlosgarciarodriguez/Documents/Mathilde/02 Data/Prepared data/df_total.pkl')"
   ]
  },
  {
   "cell_type": "code",
   "execution_count": null,
   "id": "1d8252ee-42f5-47ca-b1a4-62ed7d4349ed",
   "metadata": {},
   "outputs": [],
   "source": []
  }
 ],
 "metadata": {
  "kernelspec": {
   "display_name": "Python 3 (ipykernel)",
   "language": "python",
   "name": "python3"
  },
  "language_info": {
   "codemirror_mode": {
    "name": "ipython",
    "version": 3
   },
   "file_extension": ".py",
   "mimetype": "text/x-python",
   "name": "python",
   "nbconvert_exporter": "python",
   "pygments_lexer": "ipython3",
   "version": "3.11.7"
  }
 },
 "nbformat": 4,
 "nbformat_minor": 5
}
