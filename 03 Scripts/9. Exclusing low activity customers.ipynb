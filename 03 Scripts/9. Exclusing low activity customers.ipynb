{
 "cells": [
  {
   "cell_type": "markdown",
   "id": "05a3b23b",
   "metadata": {},
   "source": [
    "# Import libraries and data"
   ]
  },
  {
   "cell_type": "code",
   "execution_count": 1,
   "id": "bf44f740",
   "metadata": {},
   "outputs": [],
   "source": [
    "#importing libraries\n",
    "import pandas as pd\n",
    "import numpy as np\n",
    "import os"
   ]
  },
  {
   "cell_type": "code",
   "execution_count": 2,
   "id": "4bb17779",
   "metadata": {},
   "outputs": [],
   "source": [
    "#importing data\n",
    "#create path\n",
    "path = r'C:\\Users\\Mathilde\\Documents\\DATA ANALYSIS CAREERFOUNDRY\\May 2024 - Instacart Basket Analysis'\n",
    "#final merged data set\n",
    "df = pd.read_pickle(os.path.join(path, '02 Data', 'Prepared data', 'ords_prods_customers.pkl'))"
   ]
  },
  {
   "cell_type": "markdown",
   "id": "40028974",
   "metadata": {},
   "source": [
    "# Security implications:\n"
   ]
  },
  {
   "cell_type": "markdown",
   "id": "c3601d67",
   "metadata": {},
   "source": [
    "We deal with personal cultomer information (names that can be linked to shopping habits) and we have to comply to data privacy regulations. We dropped the columns containing the names of the customers: we \"scrubbed\" this information out to avoid any issue regarding personally identifiable information (PII)"
   ]
  },
  {
   "cell_type": "markdown",
   "id": "aa049e26",
   "metadata": {},
   "source": [
    "# Excluding low activity customers"
   ]
  },
  {
   "cell_type": "code",
   "execution_count": 3,
   "id": "dc2adfe3",
   "metadata": {},
   "outputs": [],
   "source": [
    "# Creation of a new data frame dropping all the rows corresponding to customers with fewer than 5 orders (we're not interested in them because they don't generate much revenue)\n",
    "df2 = df.drop(df[df.max_order < 5].index)"
   ]
  },
  {
   "cell_type": "code",
   "execution_count": 4,
   "id": "ae7dbb3d",
   "metadata": {},
   "outputs": [
    {
     "data": {
      "text/plain": [
       "count    3.096456e+07\n",
       "mean     3.442569e+01\n",
       "std      2.489504e+01\n",
       "min      5.000000e+00\n",
       "25%      1.400000e+01\n",
       "50%      2.800000e+01\n",
       "75%      4.800000e+01\n",
       "max      9.900000e+01\n",
       "Name: max_order, dtype: float64"
      ]
     },
     "execution_count": 4,
     "metadata": {},
     "output_type": "execute_result"
    }
   ],
   "source": [
    "# Checking result \n",
    "df2['max_order'].describe()"
   ]
  },
  {
   "cell_type": "code",
   "execution_count": 5,
   "id": "ca345707",
   "metadata": {},
   "outputs": [],
   "source": [
    "# Exportation of the new df\n",
    "df2.to_pickle(os.path.join(path, '02 Data', 'Prepared Data', 'ords_prods_merge_high_activ_cx.pkl'))"
   ]
  }
 ],
 "metadata": {
  "kernelspec": {
   "display_name": "Python 3 (ipykernel)",
   "language": "python",
   "name": "python3"
  },
  "language_info": {
   "codemirror_mode": {
    "name": "ipython",
    "version": 3
   },
   "file_extension": ".py",
   "mimetype": "text/x-python",
   "name": "python",
   "nbconvert_exporter": "python",
   "pygments_lexer": "ipython3",
   "version": "3.11.7"
  }
 },
 "nbformat": 4,
 "nbformat_minor": 5
}
